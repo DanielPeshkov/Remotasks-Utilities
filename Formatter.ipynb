{
  "nbformat": 4,
  "nbformat_minor": 0,
  "metadata": {
    "colab": {
      "provenance": [],
      "authorship_tag": "ABX9TyNP2Rwx9XhSQ84gunsvRQB3"
    },
    "kernelspec": {
      "name": "python3",
      "display_name": "Python 3"
    },
    "language_info": {
      "name": "python"
    }
  },
  "cells": [
    {
      "cell_type": "markdown",
      "source": [
        "# Purpose\n",
        "The purpose of this script is to extract the data from a csv into a string format that can be used both in your prompt as well as to create a Pandas DataFrame in your code. The first piece of code creates a markdown formatted table to be used in prompts, and the second piece of code creates python code that you can copy to create a DataFrame.\n",
        "\n",
        "# Modifiable Variables\n",
        "1. path: Set this variable to the name of your file\n",
        "2. rows: Set this variable to the number of rows you want\n",
        "\n",
        "# How To Use This Script\n",
        "1. Upload your file\n",
        "2. Change your path and rows variables\n",
        "3. Run the first cell\n",
        "4. Copy the markdown formatted output to use in your prompt\n",
        "5. Run the second cell\n",
        "6. Copy the output to use in your code to make a DataFrame. (See the third code cell to see how to use this output to make a DataFrame)"
      ],
      "metadata": {
        "id": "HTTcSvH3HRvo"
      }
    },
    {
      "cell_type": "markdown",
      "source": [
        "This cell produces a markdown formatted table to be used in your prompt. Be sure to upload your file and modify the path and row variables before running."
      ],
      "metadata": {
        "id": "2TOBBnhoQeDj"
      }
    },
    {
      "cell_type": "code",
      "source": [
        "import pandas as pd\n",
        "\n",
        "# Modify These Two Variables\n",
        "# This is the name of your file\n",
        "path = 'sport_car_data.csv'\n",
        "# This is the number of rows you want\n",
        "rows = 10\n",
        "\n",
        "# Leave the rest of this\n",
        "# Load the file\n",
        "df = pd.read_csv(path)\n",
        "\n",
        "# Make sure rows are less than total\n",
        "if rows > len(df):\n",
        "  rows = len(df)\n",
        "\n",
        "# Select number of rows\n",
        "df = df.iloc[:rows]\n",
        "\n",
        "# Print the table\n",
        "print('| ', ' | '.join([str(col) for col in df.columns]), '|')\n",
        "print('|'+'|'.join(['---' for col in df.columns])+'|')\n",
        "for ind, row in df.iterrows():\n",
        "  print('|'+'|'.join([str(v) for v in row])+'|')"
      ],
      "metadata": {
        "colab": {
          "base_uri": "https://localhost:8080/"
        },
        "id": "6SxvmNAAMxsM",
        "outputId": "c62398e8-51ae-4138-ac81-6b76f4f0dfa7"
      },
      "execution_count": 172,
      "outputs": [
        {
          "output_type": "stream",
          "name": "stdout",
          "text": [
            "|  Make | Model | Year | Eng Size (L) | HP | Torque | MPH Time 0-70 SECS | $ (USD) |\n",
            "|---|---|---|---|---|---|---|---|\n",
            "|Lamborghini|Huracan|2021|5.2|630|444|2.8|274,389|\n",
            "|Ferrari|488 GTB|2022|3.9|661|562|3|333,749|\n",
            "|Audi|R8|2022|5.2|562|407|3.2|142,699|\n",
            "|McLaren|720S|2021|4|710|569|2.7|298,000|\n",
            "|BMW|M8|2022|4.4|617|554|3.1|130,000|\n",
            "|Mercedes-Benz|AMG GT|2021|4|523|495|3.8|118,500|\n",
            "|Chevrolet|Corvette|2021|6.2|490|466|2.8|59,900|\n",
            "|Ford|Mustang Shelby GT500|2022|5.2|760|626|3.5|81,000|\n",
            "|Nissan|GT-R Nismo|2021|3.8|600|482|2.5|212,000|\n",
            "|Aston Martin|DB11|2021|5.2|630|517|3.5|201,494|\n"
          ]
        }
      ]
    },
    {
      "cell_type": "markdown",
      "source": [
        "This cell produces a Pandas DataFrame to be used in your code"
      ],
      "metadata": {
        "id": "mFXGVv1DQQQb"
      }
    },
    {
      "cell_type": "code",
      "source": [
        "# Print the comment\n",
        "print('# Create the DataFrame')\n",
        "\n",
        "# Print the columns\n",
        "print('columns = [' + \", \".join([\"\\\"\"+str(col)+\"\\\"\" for col in df.columns]) + ']')\n",
        "\n",
        "# Print the data\n",
        "print('data = [')\n",
        "for ind, row in df.iterrows():\n",
        "  print('[', ','.join([\"\\\"\"+str(i)+\"\\\"\" for i in row.values]), '],')\n",
        "print(']')\n",
        "\n",
        "# Print the code to make a DataFrame\n",
        "print('df = pd.DataFrame(data, columns=columns)')"
      ],
      "metadata": {
        "colab": {
          "base_uri": "https://localhost:8080/"
        },
        "id": "09ExRZCCmPOa",
        "outputId": "2bfe797c-9e53-4978-a8da-4666df44a317"
      },
      "execution_count": 167,
      "outputs": [
        {
          "output_type": "stream",
          "name": "stdout",
          "text": [
            "# Create the DataFrame\n",
            "columns = [\"Make\", \"Model\", \"Year\", \"Eng Size (L)\", \"HP\", \"Torque\", \"MPH Time 0-70 SECS\", \"$ (USD)\"]\n",
            "data = [\n",
            "[ \"Lamborghini\",\"Huracan\",\"2021\",\"5.2\",\"630\",\"444\",\"2.8\",\"274,389\" ],\n",
            "[ \"Ferrari\",\"488 GTB\",\"2022\",\"3.9\",\"661\",\"562\",\"3\",\"333,749\" ],\n",
            "[ \"Audi\",\"R8\",\"2022\",\"5.2\",\"562\",\"407\",\"3.2\",\"142,699\" ],\n",
            "[ \"McLaren\",\"720S\",\"2021\",\"4\",\"710\",\"569\",\"2.7\",\"298,000\" ],\n",
            "[ \"BMW\",\"M8\",\"2022\",\"4.4\",\"617\",\"554\",\"3.1\",\"130,000\" ],\n",
            "[ \"Mercedes-Benz\",\"AMG GT\",\"2021\",\"4\",\"523\",\"495\",\"3.8\",\"118,500\" ],\n",
            "[ \"Chevrolet\",\"Corvette\",\"2021\",\"6.2\",\"490\",\"466\",\"2.8\",\"59,900\" ],\n",
            "[ \"Ford\",\"Mustang Shelby GT500\",\"2022\",\"5.2\",\"760\",\"626\",\"3.5\",\"81,000\" ],\n",
            "[ \"Nissan\",\"GT-R Nismo\",\"2021\",\"3.8\",\"600\",\"482\",\"2.5\",\"212,000\" ],\n",
            "[ \"Aston Martin\",\"DB11\",\"2021\",\"5.2\",\"630\",\"517\",\"3.5\",\"201,494\" ],\n",
            "]\n",
            "df = pd.DataFrame(data, columns=columns)\n"
          ]
        }
      ]
    },
    {
      "cell_type": "markdown",
      "source": [
        "Sample Pandas DataFrame creation"
      ],
      "metadata": {
        "id": "-Q7X-FyTKun5"
      }
    },
    {
      "cell_type": "code",
      "source": [
        "import pandas as pd\n",
        "\n",
        "# Copy Previous Output Here!\n",
        "# Create the DataFrame\n",
        "columns = [\"Make\", \"Model\", \"Year\", \"Eng Size (L)\", \"HP\", \"Torque\", \"MPH Time 0-70 SECS\", \"$ (USD)\"]\n",
        "data = [\n",
        "[ \"Lamborghini\",\"Huracan\",\"2021\",\"5.2\",\"630\",\"444\",\"2.8\",\"274,389\" ],\n",
        "[ \"Ferrari\",\"488 GTB\",\"2022\",\"3.9\",\"661\",\"562\",\"3\",\"333,749\" ],\n",
        "[ \"Audi\",\"R8\",\"2022\",\"5.2\",\"562\",\"407\",\"3.2\",\"142,699\" ],\n",
        "[ \"McLaren\",\"720S\",\"2021\",\"4\",\"710\",\"569\",\"2.7\",\"298,000\" ],\n",
        "[ \"BMW\",\"M8\",\"2022\",\"4.4\",\"617\",\"554\",\"3.1\",\"130,000\" ],\n",
        "[ \"Mercedes-Benz\",\"AMG GT\",\"2021\",\"4\",\"523\",\"495\",\"3.8\",\"118,500\" ],\n",
        "[ \"Chevrolet\",\"Corvette\",\"2021\",\"6.2\",\"490\",\"466\",\"2.8\",\"59,900\" ],\n",
        "[ \"Ford\",\"Mustang Shelby GT500\",\"2022\",\"5.2\",\"760\",\"626\",\"3.5\",\"81,000\" ],\n",
        "[ \"Nissan\",\"GT-R Nismo\",\"2021\",\"3.8\",\"600\",\"482\",\"2.5\",\"212,000\" ],\n",
        "[ \"Aston Martin\",\"DB11\",\"2021\",\"5.2\",\"630\",\"517\",\"3.5\",\"201,494\" ],\n",
        "]\n",
        "df = pd.DataFrame(data, columns=columns)\n",
        "\n",
        "# The Rest of your code would follow here\n",
        "# Print the DataFrame\n",
        "print(df)"
      ],
      "metadata": {
        "colab": {
          "base_uri": "https://localhost:8080/"
        },
        "id": "8SBpqhRP8Fc4",
        "outputId": "7d35cf0e-bb09-45fa-b59f-0fb2027ef600"
      },
      "execution_count": 170,
      "outputs": [
        {
          "output_type": "stream",
          "name": "stdout",
          "text": [
            "            Make                 Model  Year Eng Size (L)   HP Torque  \\\n",
            "0    Lamborghini               Huracan  2021          5.2  630    444   \n",
            "1        Ferrari               488 GTB  2022          3.9  661    562   \n",
            "2           Audi                    R8  2022          5.2  562    407   \n",
            "3        McLaren                  720S  2021            4  710    569   \n",
            "4            BMW                    M8  2022          4.4  617    554   \n",
            "5  Mercedes-Benz                AMG GT  2021            4  523    495   \n",
            "6      Chevrolet              Corvette  2021          6.2  490    466   \n",
            "7           Ford  Mustang Shelby GT500  2022          5.2  760    626   \n",
            "8         Nissan            GT-R Nismo  2021          3.8  600    482   \n",
            "9   Aston Martin                  DB11  2021          5.2  630    517   \n",
            "\n",
            "  MPH Time 0-70 SECS  $ (USD)  \n",
            "0                2.8  274,389  \n",
            "1                  3  333,749  \n",
            "2                3.2  142,699  \n",
            "3                2.7  298,000  \n",
            "4                3.1  130,000  \n",
            "5                3.8  118,500  \n",
            "6                2.8   59,900  \n",
            "7                3.5   81,000  \n",
            "8                2.5  212,000  \n",
            "9                3.5  201,494  \n"
          ]
        }
      ]
    },
    {
      "cell_type": "code",
      "source": [],
      "metadata": {
        "id": "oDEvJrZfK7Cx"
      },
      "execution_count": null,
      "outputs": []
    }
  ]
}